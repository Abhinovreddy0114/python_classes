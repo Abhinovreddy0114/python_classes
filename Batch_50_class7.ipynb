{
 "cells": [
  {
   "cell_type": "raw",
   "id": "7e28ce77-6a55-4f53-81e7-56a36e274c5d",
   "metadata": {},
   "source": [
    "# Python Strings with Inbuilt Functions Python Strings:\n",
    "# Strings are sequences of characters,\n",
    "# enclosed within single (''),\n",
    "# double (\"\") or triple (''' or \"\"\") quotes.\n",
    "# Python provides a rich set of inbuilt functions to manipulate strings. Inbuilt Functions:\n",
    "\n",
    "# len():Returns the length of the string. \n",
    "# capitalize(): Converts the first character of the string to uppercase.\n",
    "# lower(), upper(): Converts the string to lowercase or uppercase.\n",
    "# count(substring): Returns the number of occurrences of a substring in the string.\n",
    "# find(substring)\n",
    "# Returns the index of the first occurrence of the substring.\n",
    "# replace(old, new): Replaces occurrences of 'old' with 'new'. \n",
    "# split(delimiter): Splits the string into a list of substrings based on the delimiter.\n",
    "# join(iterable): Concatenates elements of an iterable into a single string with the string as a separator.\n",
    "# strip(), lstrip(), rstrip(): Removes leading and trailing whitespace characters.\n",
    "# startswith(prefix), endswith(suffix): Checks if the string starts or ends with the specified prefix or suffix."
   ]
  },
  {
   "cell_type": "code",
   "execution_count": 75,
   "id": "f4f62aef-1d69-43ea-a723-92e5030a4270",
   "metadata": {},
   "outputs": [
    {
     "name": "stdout",
     "output_type": "stream",
     "text": [
      "11\n"
     ]
    }
   ],
   "source": [
    "a=\"hello world\"\n",
    "print(len(a))"
   ]
  },
  {
   "cell_type": "code",
   "execution_count": 77,
   "id": "02bfe21f-6dd5-4cc8-83e2-6789326f3526",
   "metadata": {},
   "outputs": [
    {
     "name": "stdout",
     "output_type": "stream",
     "text": [
      "HELLO WORLD\n"
     ]
    }
   ],
   "source": [
    "upper=a.upper()\n",
    "print(upper)"
   ]
  },
  {
   "cell_type": "code",
   "execution_count": 78,
   "id": "3483584d-b9a8-45d2-b4ea-703685c32320",
   "metadata": {},
   "outputs": [
    {
     "name": "stdout",
     "output_type": "stream",
     "text": [
      "hello world\n"
     ]
    }
   ],
   "source": [
    "lower=a.lower()\n",
    "print(lower)"
   ]
  },
  {
   "cell_type": "code",
   "execution_count": 79,
   "id": "a144caf4-7e8b-4d79-b83b-fe0170855fd5",
   "metadata": {
    "scrolled": true
   },
   "outputs": [
    {
     "name": "stdout",
     "output_type": "stream",
     "text": [
      "Hello world\n"
     ]
    }
   ],
   "source": [
    "cap = a.capitalize()\n",
    "print(cap)\n",
    "\n"
   ]
  },
  {
   "cell_type": "code",
   "execution_count": 82,
   "id": "010af99b-307b-4847-b997-1c7d8c4fee8a",
   "metadata": {},
   "outputs": [
    {
     "name": "stdout",
     "output_type": "stream",
     "text": [
      "4\n"
     ]
    }
   ],
   "source": [
    "ab= \"aabbcccc\"\n",
    "print(ab.count(\"c\"))"
   ]
  },
  {
   "cell_type": "code",
   "execution_count": 85,
   "id": "24b567d1-58a5-4300-9fcd-6e9c8ee36c11",
   "metadata": {},
   "outputs": [
    {
     "name": "stdout",
     "output_type": "stream",
     "text": [
      "2\n"
     ]
    }
   ],
   "source": [
    "print(ab.find(\"b\"))"
   ]
  },
  {
   "cell_type": "code",
   "execution_count": 89,
   "id": "0fc0413d-64e1-43d0-96f3-5718a8d389bf",
   "metadata": {},
   "outputs": [
    {
     "name": "stdout",
     "output_type": "stream",
     "text": [
      "hello how are you\n"
     ]
    }
   ],
   "source": [
    "string= \"hello how are yoy\"\n",
    "s= string.replace(\"yoy\",\"you\")\n",
    "print(s)"
   ]
  },
  {
   "cell_type": "code",
   "execution_count": 90,
   "id": "fcbdd6d7-7664-4142-a567-9c047f117815",
   "metadata": {},
   "outputs": [
    {
     "name": "stdout",
     "output_type": "stream",
     "text": [
      "['hello', 'how', 'are', 'you']\n"
     ]
    }
   ],
   "source": [
    "string= \"hello how are you\"\n",
    "new=string.split(\" \")\n",
    "print(new)"
   ]
  },
  {
   "cell_type": "code",
   "execution_count": 91,
   "id": "5ec0bce3-0eb1-45b5-a538-6a14a9cab86e",
   "metadata": {},
   "outputs": [
    {
     "name": "stdout",
     "output_type": "stream",
     "text": [
      "['a', 'c', 'd', 'd']\n"
     ]
    }
   ],
   "source": [
    "strg = \"abcbdbd\"\n",
    "new=strg.split(\"b\")\n",
    "print(new)\n"
   ]
  },
  {
   "cell_type": "code",
   "execution_count": 94,
   "id": "9f9144bd-767e-4b9c-b091-10bae1184902",
   "metadata": {},
   "outputs": [
    {
     "name": "stdout",
     "output_type": "stream",
     "text": [
      "hello endworld\n"
     ]
    }
   ],
   "source": [
    "join =\" end\".join([\"hello\",\"world\"])\n",
    "print(join)"
   ]
  },
  {
   "cell_type": "code",
   "execution_count": 95,
   "id": "c8f40608-d2b2-48b7-a6b8-bb900156fb99",
   "metadata": {},
   "outputs": [
    {
     "name": "stdout",
     "output_type": "stream",
     "text": [
      "helwkwd\n"
     ]
    }
   ],
   "source": [
    "a= \"    helwkwd    \"\n",
    "print(a.strip())"
   ]
  },
  {
   "cell_type": "code",
   "execution_count": 96,
   "id": "c98616f9-46ab-498b-818e-ebfdd799f168",
   "metadata": {},
   "outputs": [
    {
     "name": "stdout",
     "output_type": "stream",
     "text": [
      "helwkwd    \n"
     ]
    }
   ],
   "source": [
    "print(a.lstrip())"
   ]
  },
  {
   "cell_type": "code",
   "execution_count": 97,
   "id": "44733a3d-32e2-48dd-83ee-a346fed8e57c",
   "metadata": {},
   "outputs": [
    {
     "name": "stdout",
     "output_type": "stream",
     "text": [
      "    helwkwd\n"
     ]
    }
   ],
   "source": [
    "print(a.rstrip())"
   ]
  },
  {
   "cell_type": "code",
   "execution_count": 99,
   "id": "a91cc3e3-d52e-49e6-a75f-5ce9c2ca40d0",
   "metadata": {},
   "outputs": [
    {
     "name": "stdout",
     "output_type": "stream",
     "text": [
      "True\n"
     ]
    }
   ],
   "source": [
    "a=\"hello world\"\n",
    "print(a.startswith(\"hello\"))"
   ]
  },
  {
   "cell_type": "code",
   "execution_count": 102,
   "id": "973eecf0-e4ba-44c3-bdb5-9b39d8c5e543",
   "metadata": {},
   "outputs": [
    {
     "name": "stdout",
     "output_type": "stream",
     "text": [
      "True\n"
     ]
    }
   ],
   "source": [
    "print(a.endswith(\"world\"))"
   ]
  },
  {
   "cell_type": "code",
   "execution_count": 106,
   "id": "d954d038-1383-4d17-bccc-cc36861257c5",
   "metadata": {},
   "outputs": [
    {
     "name": "stdout",
     "output_type": "stream",
     "text": [
      "dnmnf,dnsfjje\n"
     ]
    }
   ],
   "source": []
  },
  {
   "cell_type": "code",
   "execution_count": null,
   "id": "25e325d2-cbf1-4ec3-901e-0725e34f1f19",
   "metadata": {},
   "outputs": [],
   "source": []
  }
 ],
 "metadata": {
  "kernelspec": {
   "display_name": "Python 3 (ipykernel)",
   "language": "python",
   "name": "python3"
  },
  "language_info": {
   "codemirror_mode": {
    "name": "ipython",
    "version": 3
   },
   "file_extension": ".py",
   "mimetype": "text/x-python",
   "name": "python",
   "nbconvert_exporter": "python",
   "pygments_lexer": "ipython3",
   "version": "3.11.7"
  }
 },
 "nbformat": 4,
 "nbformat_minor": 5
}
